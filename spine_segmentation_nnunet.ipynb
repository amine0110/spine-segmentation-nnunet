{
 "cells": [
  {
   "cell_type": "markdown",
   "id": "3bc0a7e9-cc70-4c0f-b4d6-e488e4dcd401",
   "metadata": {},
   "source": [
    "## Split the dataset\n",
    "If your dataset is not already split to train/valid or train/test folders, then you can use this cell to split it using the DataSplitter module from pycad."
   ]
  },
  {
   "cell_type": "code",
   "execution_count": null,
   "id": "8ca72da6-c4b4-469b-bbe1-f695be55292f",
   "metadata": {},
   "outputs": [],
   "source": [
    "from utils import DataSplitter, DataRenamer"
   ]
  },
  {
   "cell_type": "code",
   "execution_count": null,
   "id": "d62d9c1e-4851-490e-9f8a-7ea5705244da",
   "metadata": {},
   "outputs": [],
   "source": [
    "img = '/workspace/datasets/corrected_metadata/volumes'\n",
    "msk = '/workspace/datasets/corrected_metadata/segmentations'\n",
    "output = '/workspace/datasets/corrected_metadata/split'\n",
    "\n",
    "splitter = DataSplitter(img, msk, output, 0.8, 0.2, 0.0, delete_input=True)\n",
    "splitter.run()"
   ]
  },
  {
   "cell_type": "markdown",
   "id": "c2e0ec56-3420-46d8-92f4-3cd9fc873b79",
   "metadata": {},
   "source": [
    "## Rename the dataset"
   ]
  },
  {
   "cell_type": "code",
   "execution_count": null,
   "id": "860c4560-8b06-4b85-92f1-17ff45aae40b",
   "metadata": {},
   "outputs": [],
   "source": [
    "output = '/workspace/datasets/corrected_metadata/split'\n",
    "\n",
    "nnunet_data = '/workspace/datasets/nnunet_data/nnUNet_raw'\n",
    "\n",
    "renamer = DataRenamer(output, nnunet_data, 100, 'SPINE')\n",
    "renamer.run()"
   ]
  },
  {
   "cell_type": "code",
   "execution_count": null,
   "id": "52f09c4d-e17d-47d3-bd2c-cc0bb52accc5",
   "metadata": {},
   "outputs": [],
   "source": []
  }
 ],
 "metadata": {
  "kernelspec": {
   "display_name": "Python 3 (ipykernel)",
   "language": "python",
   "name": "python3"
  },
  "language_info": {
   "codemirror_mode": {
    "name": "ipython",
    "version": 3
   },
   "file_extension": ".py",
   "mimetype": "text/x-python",
   "name": "python",
   "nbconvert_exporter": "python",
   "pygments_lexer": "ipython3",
   "version": "3.10.13"
  }
 },
 "nbformat": 4,
 "nbformat_minor": 5
}
